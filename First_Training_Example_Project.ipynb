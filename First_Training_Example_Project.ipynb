{
  "nbformat": 4,
  "nbformat_minor": 0,
  "metadata": {
    "colab": {
      "provenance": []
    },
    "kernelspec": {
      "name": "python3",
      "display_name": "Python 3"
    },
    "language_info": {
      "name": "python"
    }
  },
  "cells": [
    {
      "cell_type": "markdown",
      "source": [
        "A big shop that sells computers and laptops, wants to predict how much a laptop will make daily sales, so that the shop owners will know which laptops to focus on selling, or which ones they can focus on advertising them to get better sales.\n",
        "\n",
        "So here i will try to built a machine learning pipeline that will predict how much the daily sells will be for each laptop."
      ],
      "metadata": {
        "id": "GH2qQ4727cA3"
      }
    },
    {
      "cell_type": "code",
      "execution_count": null,
      "metadata": {
        "id": "zPliRxJi7asw"
      },
      "outputs": [],
      "source": [
        "#First import the needed libraries\n",
        "#the target label is made of continous data and the dataset have labels\n",
        "#So i will use supervised machine learning algorathims\n",
        "#the target label is contniues data, so i will use regression analysis\n",
        "#I will import needed libraries for using the KNN, SVM.SVR, linear regression and decision tree\n",
        "#and the needed libraries for splitting the data and testing the models\n",
        "import pandas as pd\n",
        "import sklearn.model_selection\n",
        "import sklearn.linear_model\n",
        "import sklearn.metrics\n",
        "import sklearn.neighbors\n",
        "import sklearn.tree\n",
        "import sklearn.svm"
      ]
    },
    {
      "cell_type": "markdown",
      "source": [
        "Loading Dataset"
      ],
      "metadata": {
        "id": "T0OefIN577h6"
      }
    },
    {
      "cell_type": "code",
      "source": [
        "#Here i will load the dataset so that i can see it through\n",
        "df = pd.read_excel(\"Laptop Sales Per Day.xlsx\")\n",
        "df"
      ],
      "metadata": {
        "colab": {
          "base_uri": "https://localhost:8080/",
          "height": 1000
        },
        "id": "1-dTTJS479nK",
        "outputId": "f391b70e-1957-4b89-c9e8-4111d45b2b88"
      },
      "execution_count": null,
      "outputs": [
        {
          "output_type": "execute_result",
          "data": {
            "text/plain": [
              "     Company                              Product            TypeName  Inches  \\\n",
              "0      Apple                          MacBook Pro           Ultrabook    13.3   \n",
              "1      Apple                          Macbook Air           Ultrabook    13.3   \n",
              "2         HP                               250 G6            Notebook    15.6   \n",
              "3      Apple                                                Ultrabook    15.4   \n",
              "4      Apple                          MacBook Pro           Ultrabook    13.3   \n",
              "...      ...                                  ...                 ...     ...   \n",
              "1298  Lenovo                       Yoga 500-14ISK  2 in 1 Convertible    14.0   \n",
              "1299  Lenovo                       Yoga 900-13ISK  2 in 1 Convertible    13.3   \n",
              "1300  Lenovo                   IdeaPad 100S-14IBR            Notebook    14.0   \n",
              "1301      HP  15-AC110nv (i7-6500U/6GB/1TB/Radeon            Notebook    15.6   \n",
              "1302    Asus  X553SA-XX031T (N3050/4GB/500GB/W10)            Notebook    15.6   \n",
              "\n",
              "                                ScreenResolution  \\\n",
              "0             IPS Panel Retina Display 2560x1600   \n",
              "1                                       1440x900   \n",
              "2                              Full HD 1920x1080   \n",
              "3             IPS Panel Retina Display 2880x1800   \n",
              "4             IPS Panel Retina Display 2560x1600   \n",
              "...                                          ...   \n",
              "1298   IPS Panel Full HD / Touchscreen 1920x1080   \n",
              "1299  IPS Panel Quad HD+ / Touchscreen 3200x1800   \n",
              "1300                                    1366x768   \n",
              "1301                                    1366x768   \n",
              "1302                                    1366x768   \n",
              "\n",
              "                                       Cpu  Ram (GB)               Memory  \\\n",
              "0                     Intel Core i5 2.3GHz         8            128GB SSD   \n",
              "1                     Intel Core i5 1.8GHz         8  128GB Flash Storage   \n",
              "2               Intel Core i5 7200U 2.5GHz         8            256GB SSD   \n",
              "3                     Intel Core i7 2.7GHz        16            512GB SSD   \n",
              "4                     Intel Core i5 3.1GHz         8            256GB SSD   \n",
              "...                                    ...       ...                  ...   \n",
              "1298            Intel Core i7 6500U 2.5GHz         4            128GB SSD   \n",
              "1299            Intel Core i7 6500U 2.5GHz        16            512GB SSD   \n",
              "1300  Intel Celeron Dual Core N3050 1.6GHz         2   64GB Flash Storage   \n",
              "1301            Intel Core i7 6500U 2.5GHz         6              1TB HDD   \n",
              "1302  Intel Celeron Dual Core N3050 1.6GHz         4            500GB HDD   \n",
              "\n",
              "                               Gpu       OpSys  Weight  Price_euros  \\\n",
              "0     Intel Iris Plus Graphics 640       macOS    1.37      1339.69   \n",
              "1           Intel HD Graphics 6000       macOS    1.34       898.94   \n",
              "2            Intel HD Graphics 620       No OS    1.86       575.00   \n",
              "3               AMD Radeon Pro 455       macOS    1.83      2537.45   \n",
              "4     Intel Iris Plus Graphics 650       macOS    1.37      1803.60   \n",
              "...                            ...         ...     ...          ...   \n",
              "1298         Intel HD Graphics 520  Windows 10    1.80       638.00   \n",
              "1299         Intel HD Graphics 520  Windows 10    1.30      1499.00   \n",
              "1300             Intel HD Graphics  Windows 10    1.50       229.00   \n",
              "1301            AMD Radeon R5 M330  Windows 10    2.19       764.00   \n",
              "1302             Intel HD Graphics  Windows 10    2.20       369.00   \n",
              "\n",
              "      Total Sales per Day (euros)  \n",
              "0                         2679.38  \n",
              "1                          898.94  \n",
              "2                         1150.00  \n",
              "3                         7612.35  \n",
              "4                         3607.20  \n",
              "...                           ...  \n",
              "1298                      1914.00  \n",
              "1299                      2998.00  \n",
              "1300                       458.00  \n",
              "1301                       764.00  \n",
              "1302                       369.00  \n",
              "\n",
              "[1303 rows x 13 columns]"
            ],
            "text/html": [
              "\n",
              "  <div id=\"df-619f2b23-9509-4801-a7e8-690d7c675955\">\n",
              "    <div class=\"colab-df-container\">\n",
              "      <div>\n",
              "<style scoped>\n",
              "    .dataframe tbody tr th:only-of-type {\n",
              "        vertical-align: middle;\n",
              "    }\n",
              "\n",
              "    .dataframe tbody tr th {\n",
              "        vertical-align: top;\n",
              "    }\n",
              "\n",
              "    .dataframe thead th {\n",
              "        text-align: right;\n",
              "    }\n",
              "</style>\n",
              "<table border=\"1\" class=\"dataframe\">\n",
              "  <thead>\n",
              "    <tr style=\"text-align: right;\">\n",
              "      <th></th>\n",
              "      <th>Company</th>\n",
              "      <th>Product</th>\n",
              "      <th>TypeName</th>\n",
              "      <th>Inches</th>\n",
              "      <th>ScreenResolution</th>\n",
              "      <th>Cpu</th>\n",
              "      <th>Ram (GB)</th>\n",
              "      <th>Memory</th>\n",
              "      <th>Gpu</th>\n",
              "      <th>OpSys</th>\n",
              "      <th>Weight</th>\n",
              "      <th>Price_euros</th>\n",
              "      <th>Total Sales per Day (euros)</th>\n",
              "    </tr>\n",
              "  </thead>\n",
              "  <tbody>\n",
              "    <tr>\n",
              "      <th>0</th>\n",
              "      <td>Apple</td>\n",
              "      <td>MacBook Pro</td>\n",
              "      <td>Ultrabook</td>\n",
              "      <td>13.3</td>\n",
              "      <td>IPS Panel Retina Display 2560x1600</td>\n",
              "      <td>Intel Core i5 2.3GHz</td>\n",
              "      <td>8</td>\n",
              "      <td>128GB SSD</td>\n",
              "      <td>Intel Iris Plus Graphics 640</td>\n",
              "      <td>macOS</td>\n",
              "      <td>1.37</td>\n",
              "      <td>1339.69</td>\n",
              "      <td>2679.38</td>\n",
              "    </tr>\n",
              "    <tr>\n",
              "      <th>1</th>\n",
              "      <td>Apple</td>\n",
              "      <td>Macbook Air</td>\n",
              "      <td>Ultrabook</td>\n",
              "      <td>13.3</td>\n",
              "      <td>1440x900</td>\n",
              "      <td>Intel Core i5 1.8GHz</td>\n",
              "      <td>8</td>\n",
              "      <td>128GB Flash Storage</td>\n",
              "      <td>Intel HD Graphics 6000</td>\n",
              "      <td>macOS</td>\n",
              "      <td>1.34</td>\n",
              "      <td>898.94</td>\n",
              "      <td>898.94</td>\n",
              "    </tr>\n",
              "    <tr>\n",
              "      <th>2</th>\n",
              "      <td>HP</td>\n",
              "      <td>250 G6</td>\n",
              "      <td>Notebook</td>\n",
              "      <td>15.6</td>\n",
              "      <td>Full HD 1920x1080</td>\n",
              "      <td>Intel Core i5 7200U 2.5GHz</td>\n",
              "      <td>8</td>\n",
              "      <td>256GB SSD</td>\n",
              "      <td>Intel HD Graphics 620</td>\n",
              "      <td>No OS</td>\n",
              "      <td>1.86</td>\n",
              "      <td>575.00</td>\n",
              "      <td>1150.00</td>\n",
              "    </tr>\n",
              "    <tr>\n",
              "      <th>3</th>\n",
              "      <td>Apple</td>\n",
              "      <td></td>\n",
              "      <td>Ultrabook</td>\n",
              "      <td>15.4</td>\n",
              "      <td>IPS Panel Retina Display 2880x1800</td>\n",
              "      <td>Intel Core i7 2.7GHz</td>\n",
              "      <td>16</td>\n",
              "      <td>512GB SSD</td>\n",
              "      <td>AMD Radeon Pro 455</td>\n",
              "      <td>macOS</td>\n",
              "      <td>1.83</td>\n",
              "      <td>2537.45</td>\n",
              "      <td>7612.35</td>\n",
              "    </tr>\n",
              "    <tr>\n",
              "      <th>4</th>\n",
              "      <td>Apple</td>\n",
              "      <td>MacBook Pro</td>\n",
              "      <td>Ultrabook</td>\n",
              "      <td>13.3</td>\n",
              "      <td>IPS Panel Retina Display 2560x1600</td>\n",
              "      <td>Intel Core i5 3.1GHz</td>\n",
              "      <td>8</td>\n",
              "      <td>256GB SSD</td>\n",
              "      <td>Intel Iris Plus Graphics 650</td>\n",
              "      <td>macOS</td>\n",
              "      <td>1.37</td>\n",
              "      <td>1803.60</td>\n",
              "      <td>3607.20</td>\n",
              "    </tr>\n",
              "    <tr>\n",
              "      <th>...</th>\n",
              "      <td>...</td>\n",
              "      <td>...</td>\n",
              "      <td>...</td>\n",
              "      <td>...</td>\n",
              "      <td>...</td>\n",
              "      <td>...</td>\n",
              "      <td>...</td>\n",
              "      <td>...</td>\n",
              "      <td>...</td>\n",
              "      <td>...</td>\n",
              "      <td>...</td>\n",
              "      <td>...</td>\n",
              "      <td>...</td>\n",
              "    </tr>\n",
              "    <tr>\n",
              "      <th>1298</th>\n",
              "      <td>Lenovo</td>\n",
              "      <td>Yoga 500-14ISK</td>\n",
              "      <td>2 in 1 Convertible</td>\n",
              "      <td>14.0</td>\n",
              "      <td>IPS Panel Full HD / Touchscreen 1920x1080</td>\n",
              "      <td>Intel Core i7 6500U 2.5GHz</td>\n",
              "      <td>4</td>\n",
              "      <td>128GB SSD</td>\n",
              "      <td>Intel HD Graphics 520</td>\n",
              "      <td>Windows 10</td>\n",
              "      <td>1.80</td>\n",
              "      <td>638.00</td>\n",
              "      <td>1914.00</td>\n",
              "    </tr>\n",
              "    <tr>\n",
              "      <th>1299</th>\n",
              "      <td>Lenovo</td>\n",
              "      <td>Yoga 900-13ISK</td>\n",
              "      <td>2 in 1 Convertible</td>\n",
              "      <td>13.3</td>\n",
              "      <td>IPS Panel Quad HD+ / Touchscreen 3200x1800</td>\n",
              "      <td>Intel Core i7 6500U 2.5GHz</td>\n",
              "      <td>16</td>\n",
              "      <td>512GB SSD</td>\n",
              "      <td>Intel HD Graphics 520</td>\n",
              "      <td>Windows 10</td>\n",
              "      <td>1.30</td>\n",
              "      <td>1499.00</td>\n",
              "      <td>2998.00</td>\n",
              "    </tr>\n",
              "    <tr>\n",
              "      <th>1300</th>\n",
              "      <td>Lenovo</td>\n",
              "      <td>IdeaPad 100S-14IBR</td>\n",
              "      <td>Notebook</td>\n",
              "      <td>14.0</td>\n",
              "      <td>1366x768</td>\n",
              "      <td>Intel Celeron Dual Core N3050 1.6GHz</td>\n",
              "      <td>2</td>\n",
              "      <td>64GB Flash Storage</td>\n",
              "      <td>Intel HD Graphics</td>\n",
              "      <td>Windows 10</td>\n",
              "      <td>1.50</td>\n",
              "      <td>229.00</td>\n",
              "      <td>458.00</td>\n",
              "    </tr>\n",
              "    <tr>\n",
              "      <th>1301</th>\n",
              "      <td>HP</td>\n",
              "      <td>15-AC110nv (i7-6500U/6GB/1TB/Radeon</td>\n",
              "      <td>Notebook</td>\n",
              "      <td>15.6</td>\n",
              "      <td>1366x768</td>\n",
              "      <td>Intel Core i7 6500U 2.5GHz</td>\n",
              "      <td>6</td>\n",
              "      <td>1TB HDD</td>\n",
              "      <td>AMD Radeon R5 M330</td>\n",
              "      <td>Windows 10</td>\n",
              "      <td>2.19</td>\n",
              "      <td>764.00</td>\n",
              "      <td>764.00</td>\n",
              "    </tr>\n",
              "    <tr>\n",
              "      <th>1302</th>\n",
              "      <td>Asus</td>\n",
              "      <td>X553SA-XX031T (N3050/4GB/500GB/W10)</td>\n",
              "      <td>Notebook</td>\n",
              "      <td>15.6</td>\n",
              "      <td>1366x768</td>\n",
              "      <td>Intel Celeron Dual Core N3050 1.6GHz</td>\n",
              "      <td>4</td>\n",
              "      <td>500GB HDD</td>\n",
              "      <td>Intel HD Graphics</td>\n",
              "      <td>Windows 10</td>\n",
              "      <td>2.20</td>\n",
              "      <td>369.00</td>\n",
              "      <td>369.00</td>\n",
              "    </tr>\n",
              "  </tbody>\n",
              "</table>\n",
              "<p>1303 rows × 13 columns</p>\n",
              "</div>\n",
              "      <button class=\"colab-df-convert\" onclick=\"convertToInteractive('df-619f2b23-9509-4801-a7e8-690d7c675955')\"\n",
              "              title=\"Convert this dataframe to an interactive table.\"\n",
              "              style=\"display:none;\">\n",
              "        \n",
              "  <svg xmlns=\"http://www.w3.org/2000/svg\" height=\"24px\"viewBox=\"0 0 24 24\"\n",
              "       width=\"24px\">\n",
              "    <path d=\"M0 0h24v24H0V0z\" fill=\"none\"/>\n",
              "    <path d=\"M18.56 5.44l.94 2.06.94-2.06 2.06-.94-2.06-.94-.94-2.06-.94 2.06-2.06.94zm-11 1L8.5 8.5l.94-2.06 2.06-.94-2.06-.94L8.5 2.5l-.94 2.06-2.06.94zm10 10l.94 2.06.94-2.06 2.06-.94-2.06-.94-.94-2.06-.94 2.06-2.06.94z\"/><path d=\"M17.41 7.96l-1.37-1.37c-.4-.4-.92-.59-1.43-.59-.52 0-1.04.2-1.43.59L10.3 9.45l-7.72 7.72c-.78.78-.78 2.05 0 2.83L4 21.41c.39.39.9.59 1.41.59.51 0 1.02-.2 1.41-.59l7.78-7.78 2.81-2.81c.8-.78.8-2.07 0-2.86zM5.41 20L4 18.59l7.72-7.72 1.47 1.35L5.41 20z\"/>\n",
              "  </svg>\n",
              "      </button>\n",
              "      \n",
              "  <style>\n",
              "    .colab-df-container {\n",
              "      display:flex;\n",
              "      flex-wrap:wrap;\n",
              "      gap: 12px;\n",
              "    }\n",
              "\n",
              "    .colab-df-convert {\n",
              "      background-color: #E8F0FE;\n",
              "      border: none;\n",
              "      border-radius: 50%;\n",
              "      cursor: pointer;\n",
              "      display: none;\n",
              "      fill: #1967D2;\n",
              "      height: 32px;\n",
              "      padding: 0 0 0 0;\n",
              "      width: 32px;\n",
              "    }\n",
              "\n",
              "    .colab-df-convert:hover {\n",
              "      background-color: #E2EBFA;\n",
              "      box-shadow: 0px 1px 2px rgba(60, 64, 67, 0.3), 0px 1px 3px 1px rgba(60, 64, 67, 0.15);\n",
              "      fill: #174EA6;\n",
              "    }\n",
              "\n",
              "    [theme=dark] .colab-df-convert {\n",
              "      background-color: #3B4455;\n",
              "      fill: #D2E3FC;\n",
              "    }\n",
              "\n",
              "    [theme=dark] .colab-df-convert:hover {\n",
              "      background-color: #434B5C;\n",
              "      box-shadow: 0px 1px 3px 1px rgba(0, 0, 0, 0.15);\n",
              "      filter: drop-shadow(0px 1px 2px rgba(0, 0, 0, 0.3));\n",
              "      fill: #FFFFFF;\n",
              "    }\n",
              "  </style>\n",
              "\n",
              "      <script>\n",
              "        const buttonEl =\n",
              "          document.querySelector('#df-619f2b23-9509-4801-a7e8-690d7c675955 button.colab-df-convert');\n",
              "        buttonEl.style.display =\n",
              "          google.colab.kernel.accessAllowed ? 'block' : 'none';\n",
              "\n",
              "        async function convertToInteractive(key) {\n",
              "          const element = document.querySelector('#df-619f2b23-9509-4801-a7e8-690d7c675955');\n",
              "          const dataTable =\n",
              "            await google.colab.kernel.invokeFunction('convertToInteractive',\n",
              "                                                     [key], {});\n",
              "          if (!dataTable) return;\n",
              "\n",
              "          const docLinkHtml = 'Like what you see? Visit the ' +\n",
              "            '<a target=\"_blank\" href=https://colab.research.google.com/notebooks/data_table.ipynb>data table notebook</a>'\n",
              "            + ' to learn more about interactive tables.';\n",
              "          element.innerHTML = '';\n",
              "          dataTable['output_type'] = 'display_data';\n",
              "          await google.colab.output.renderOutput(dataTable, element);\n",
              "          const docLink = document.createElement('div');\n",
              "          docLink.innerHTML = docLinkHtml;\n",
              "          element.appendChild(docLink);\n",
              "        }\n",
              "      </script>\n",
              "    </div>\n",
              "  </div>\n",
              "  "
            ]
          },
          "metadata": {},
          "execution_count": 228
        }
      ]
    },
    {
      "cell_type": "markdown",
      "source": [
        "Splitting the data to train and test"
      ],
      "metadata": {
        "id": "SdIkVYWG8GpV"
      }
    },
    {
      "cell_type": "code",
      "source": [
        "#Here i split the data to test set and train set (before i start preprocessing on the train set)\n",
        "#then i will see the number of rows and columns in each set\n",
        "df_train, df_test = sklearn.model_selection.train_test_split(df)\n",
        "print(\"df:\", df.shape)\n",
        "print(\"df_train:\", df_train.shape)\n",
        "print(\"df_test:\", df_test.shape)"
      ],
      "metadata": {
        "colab": {
          "base_uri": "https://localhost:8080/"
        },
        "id": "_F7GeMfM8HQY",
        "outputId": "3b4800ce-b70b-4262-ebd3-5c2923141152"
      },
      "execution_count": null,
      "outputs": [
        {
          "output_type": "stream",
          "name": "stdout",
          "text": [
            "df: (1303, 13)\n",
            "df_train: (977, 13)\n",
            "df_test: (326, 13)\n"
          ]
        }
      ]
    },
    {
      "cell_type": "markdown",
      "source": [
        "Data preprocessing"
      ],
      "metadata": {
        "id": "P1lK4Ug_8OIy"
      }
    },
    {
      "cell_type": "markdown",
      "source": [
        "Checking for missing data"
      ],
      "metadata": {
        "id": "96H2YhBA8SQl"
      }
    },
    {
      "cell_type": "code",
      "source": [
        "# Here i want to find missing data in the training set\n",
        "# i will delete them with dropna in case ant exists\n",
        "dfnull = df_train.isna().sum()\n",
        "dfnull"
      ],
      "metadata": {
        "colab": {
          "base_uri": "https://localhost:8080/"
        },
        "id": "cLpcQ3qb8OoW",
        "outputId": "780fbf60-df66-407a-b2d9-c34061ea5e1e"
      },
      "execution_count": null,
      "outputs": [
        {
          "output_type": "execute_result",
          "data": {
            "text/plain": [
              "Company                        0\n",
              "Product                        0\n",
              "TypeName                       0\n",
              "Inches                         0\n",
              "ScreenResolution               0\n",
              "Cpu                            0\n",
              "Ram (GB)                       0\n",
              "Memory                         0\n",
              "Gpu                            0\n",
              "OpSys                          0\n",
              "Weight                         0\n",
              "Price_euros                    0\n",
              "Total Sales per Day (euros)    0\n",
              "dtype: int64"
            ]
          },
          "metadata": {},
          "execution_count": 230
        }
      ]
    },
    {
      "cell_type": "markdown",
      "source": [
        "Checking for duplicate rows"
      ],
      "metadata": {
        "id": "E5kt4RXX8Vsl"
      }
    },
    {
      "cell_type": "code",
      "source": [
        "# Here i want to find duplicate rows\n",
        "# Each row is a specifice prodcut, so if there was any exact duplicate in all cells for several rows\n",
        "# we should delete them\n",
        "dfduplicate =df_train.duplicated().sum()\n",
        "dfduplicate"
      ],
      "metadata": {
        "colab": {
          "base_uri": "https://localhost:8080/"
        },
        "id": "8xKzea9g8daO",
        "outputId": "aa9f2a80-109b-4bf5-9113-a7bdb24c34b8"
      },
      "execution_count": null,
      "outputs": [
        {
          "output_type": "execute_result",
          "data": {
            "text/plain": [
              "4"
            ]
          },
          "metadata": {},
          "execution_count": 231
        }
      ]
    },
    {
      "cell_type": "code",
      "source": [
        "# in case i found duplicated rows in the previous code\n",
        "# i want to detect them and read them\n",
        "# rows that contain the exact features of a laptop should be deleted\n",
        "# writing (keep=False) to see all rows with the similar cells\n",
        "df2 = df_train[df_train.duplicated(keep=False)]\n",
        "print(df2)"
      ],
      "metadata": {
        "colab": {
          "base_uri": "https://localhost:8080/"
        },
        "id": "4ehJB4By8gL8",
        "outputId": "38a75305-53b5-4b59-b17a-9ed01de3e70a"
      },
      "execution_count": null,
      "outputs": [
        {
          "output_type": "stream",
          "name": "stdout",
          "text": [
            "     Company           Product            TypeName  Inches  \\\n",
            "1296      HP  Stream 11-Y000na             Netbook    11.6   \n",
            "1285  Lenovo    Yoga 900-13ISK  2 in 1 Convertible    13.3   \n",
            "1290    Dell     Inspiron 3567            Notebook    15.6   \n",
            "1282      HP  Stream 11-Y000na             Netbook    11.6   \n",
            "1268      HP  Stream 11-Y000na             Netbook    11.6   \n",
            "1276    Dell     Inspiron 3567            Notebook    15.6   \n",
            "1271  Lenovo    Yoga 900-13ISK  2 in 1 Convertible    13.3   \n",
            "\n",
            "                                ScreenResolution  \\\n",
            "1296                                    1366x768   \n",
            "1285  IPS Panel Quad HD+ / Touchscreen 3200x1800   \n",
            "1290                                    1366x768   \n",
            "1282                                    1366x768   \n",
            "1268                                    1366x768   \n",
            "1276                                    1366x768   \n",
            "1271  IPS Panel Quad HD+ / Touchscreen 3200x1800   \n",
            "\n",
            "                                       Cpu  Ram (GB)              Memory  \\\n",
            "1296  Intel Celeron Dual Core N3060 1.6GHz         2  32GB Flash Storage   \n",
            "1285            Intel Core i7 6500U 2.5GHz        16           512GB SSD   \n",
            "1290            Intel Core i3 7100U 2.4GHz         6             1TB HDD   \n",
            "1282  Intel Celeron Dual Core N3060 1.6GHz         2  32GB Flash Storage   \n",
            "1268  Intel Celeron Dual Core N3060 1.6GHz         2  32GB Flash Storage   \n",
            "1276            Intel Core i3 7100U 2.4GHz         6             1TB HDD   \n",
            "1271            Intel Core i7 6500U 2.5GHz        16           512GB SSD   \n",
            "\n",
            "                        Gpu       OpSys  Weight  Price_euros  \\\n",
            "1296  Intel HD Graphics 400  Windows 10    1.17        209.0   \n",
            "1285  Intel HD Graphics 520  Windows 10    1.30       1499.0   \n",
            "1290  Intel HD Graphics 620  Windows 10    2.30        459.0   \n",
            "1282  Intel HD Graphics 400  Windows 10    1.17        209.0   \n",
            "1268  Intel HD Graphics 400  Windows 10    1.17        209.0   \n",
            "1276  Intel HD Graphics 620  Windows 10    2.30        459.0   \n",
            "1271  Intel HD Graphics 520  Windows 10    1.30       1499.0   \n",
            "\n",
            "      Total Sales per Day (euros)  \n",
            "1296                        418.0  \n",
            "1285                       4497.0  \n",
            "1290                        918.0  \n",
            "1282                        418.0  \n",
            "1268                        418.0  \n",
            "1276                        918.0  \n",
            "1271                       4497.0  \n"
          ]
        }
      ]
    },
    {
      "cell_type": "code",
      "source": [
        "# here i will remove the duplicated rows\n",
        "# and check if the rows were deleted by seeing the number of rows\n",
        "df_train = df_train.drop_duplicates()\n",
        "df_train.shape"
      ],
      "metadata": {
        "colab": {
          "base_uri": "https://localhost:8080/"
        },
        "id": "X3sZ3W878jgp",
        "outputId": "6bad7a85-9bce-4f52-c9ab-5473ea089e39"
      },
      "execution_count": null,
      "outputs": [
        {
          "output_type": "execute_result",
          "data": {
            "text/plain": [
              "(973, 13)"
            ]
          },
          "metadata": {},
          "execution_count": 233
        }
      ]
    },
    {
      "cell_type": "markdown",
      "source": [
        "Finding outliers"
      ],
      "metadata": {
        "id": "1ItsRaMZ8njP"
      }
    },
    {
      "cell_type": "code",
      "source": [
        "# i will use Interquartile range (IQR) method to look for outliers\n",
        "# i will use 25% for detecting the outliers\n",
        "# i will do the IQR method on numerical columns\n",
        "Q1 = df_train['Inches'].quantile(0.25)\n",
        "Q3 = df_train['Inches'].quantile(0.75)\n",
        "IQR = Q3 - Q1\n",
        "\n",
        "outliers = df_train['Inches'][(df_train['Inches'] < Q1 - 1.5 * IQR) | (df_train['Inches'] > Q3 + 1.5 * IQR)].value_counts()\n",
        "\n",
        "#and in output we can see if there any outliers\n",
        "outliers.shape"
      ],
      "metadata": {
        "colab": {
          "base_uri": "https://localhost:8080/"
        },
        "id": "GwCJlOz58lLR",
        "outputId": "0cc4512a-d2d9-4ab0-97cb-eb04f4e5f63a"
      },
      "execution_count": null,
      "outputs": [
        {
          "output_type": "execute_result",
          "data": {
            "text/plain": [
              "(3,)"
            ]
          },
          "metadata": {},
          "execution_count": 234
        }
      ]
    },
    {
      "cell_type": "code",
      "source": [
        "Q1 = df_train['Ram (GB)'].quantile(0.25)\n",
        "Q3 = df_train['Ram (GB)'].quantile(0.75)\n",
        "IQR = Q3 - Q1\n",
        "\n",
        "outliers2 = df_train['Ram (GB)'][(df_train['Ram (GB)'] < Q1 - 1.5 * IQR) | (df_train['Ram (GB)'] > Q3 + 1.5 * IQR)].value_counts()\n",
        "\n",
        "outliers2.shape"
      ],
      "metadata": {
        "colab": {
          "base_uri": "https://localhost:8080/"
        },
        "id": "e4E_R2EH81a4",
        "outputId": "bda9f7c2-36a3-4285-a6c7-15be91313941"
      },
      "execution_count": null,
      "outputs": [
        {
          "output_type": "execute_result",
          "data": {
            "text/plain": [
              "(4,)"
            ]
          },
          "metadata": {},
          "execution_count": 235
        }
      ]
    },
    {
      "cell_type": "code",
      "source": [
        "Q1 = df_train['Weight'].quantile(0.25)\n",
        "Q3 = df_train['Weight'].quantile(0.75)\n",
        "IQR = Q3 - Q1\n",
        "\n",
        "outliers3 = df_train['Weight'][(df_train['Weight'] < Q1 - 1.5 * IQR) | (df_train['Weight'] > Q3 + 1.5 * IQR)].value_counts()\n",
        "\n",
        "outliers3.shape"
      ],
      "metadata": {
        "colab": {
          "base_uri": "https://localhost:8080/"
        },
        "id": "CAdlapGG83Fb",
        "outputId": "e2b3ad11-f3b6-4f8c-e292-c475f1e36ca4"
      },
      "execution_count": null,
      "outputs": [
        {
          "output_type": "execute_result",
          "data": {
            "text/plain": [
              "(18,)"
            ]
          },
          "metadata": {},
          "execution_count": 236
        }
      ]
    },
    {
      "cell_type": "code",
      "source": [
        "Q1 = df_train['Price_euros'].quantile(0.25)\n",
        "Q3 = df_train['Price_euros'].quantile(0.75)\n",
        "IQR = Q3 - Q1\n",
        "\n",
        "outliers4 = df_train['Price_euros'][(df_train['Price_euros'] < Q1 - 1.5 * IQR) | (df_train['Price_euros'] > Q3 + 1.5 * IQR)].value_counts()\n",
        "\n",
        "outliers4.shape"
      ],
      "metadata": {
        "colab": {
          "base_uri": "https://localhost:8080/"
        },
        "id": "iBsLXXXR9AGT",
        "outputId": "54cc6dc9-5a01-4e8e-a726-348763703a4e"
      },
      "execution_count": null,
      "outputs": [
        {
          "output_type": "execute_result",
          "data": {
            "text/plain": [
              "(19,)"
            ]
          },
          "metadata": {},
          "execution_count": 237
        }
      ]
    },
    {
      "cell_type": "code",
      "source": [
        "Q1 = df_train['Total Sales per Day (euros)'].quantile(0.25)\n",
        "Q3 = df_train['Total Sales per Day (euros)'].quantile(0.75)\n",
        "IQR = Q3 - Q1\n",
        "\n",
        "outliers5 = df_train['Total Sales per Day (euros)'][(df_train['Total Sales per Day (euros)'] < Q1 - 1.5 * IQR) | (df_train['Total Sales per Day (euros)'] > Q3 + 1.5 * IQR)].value_counts()\n",
        "\n",
        "outliers5.shape"
      ],
      "metadata": {
        "colab": {
          "base_uri": "https://localhost:8080/"
        },
        "id": "j1dNinsCgJ9A",
        "outputId": "91932928-7d3e-4166-bb47-30a471fbd0d4"
      },
      "execution_count": null,
      "outputs": [
        {
          "output_type": "execute_result",
          "data": {
            "text/plain": [
              "(46,)"
            ]
          },
          "metadata": {},
          "execution_count": 238
        }
      ]
    },
    {
      "cell_type": "code",
      "source": [
        "# i got some data that could be count it as outliers\n",
        "# but the size of the RAM is important\n",
        "# the outlier data for RAM are an important feature of any device\n",
        "# i will only delete other's columns outliers\n",
        "\n",
        "df_train = df_train[(df_train['Weight'] >= Q1 - 1.5 * IQR) & (df_train['Weight'] <= Q3 + 1.5 * IQR)]"
      ],
      "metadata": {
        "id": "KTv0OgJq9EEd"
      },
      "execution_count": null,
      "outputs": []
    },
    {
      "cell_type": "code",
      "source": [
        "df_train = df_train[(df_train['Total Sales per Day (euros)'] >= Q1 - 1.5 * IQR) & (df_train['Total Sales per Day (euros)'] <= Q3 + 1.5 * IQR)]"
      ],
      "metadata": {
        "id": "2w8znhY19FVm"
      },
      "execution_count": null,
      "outputs": []
    },
    {
      "cell_type": "code",
      "source": [
        "df_train = df_train[(df_train['Inches'] >= Q1 - 1.5 * IQR) & (df_train['Inches'] <= Q3 + 1.5 * IQR)]"
      ],
      "metadata": {
        "id": "mnwpYGta9Ka6"
      },
      "execution_count": null,
      "outputs": []
    },
    {
      "cell_type": "code",
      "source": [
        "df_train = df_train[(df_train['Price_euros'] >= Q1 - 1.5 * IQR) & (df_train['Price_euros'] <= Q3 + 1.5 * IQR)]\n",
        "# here i will see the changes that happened to rows number\n",
        "df_train.shape"
      ],
      "metadata": {
        "colab": {
          "base_uri": "https://localhost:8080/"
        },
        "id": "yhWBrVnI9MxA",
        "outputId": "e3f41d52-0f67-4cc7-e4c7-7e7a3250a5b0"
      },
      "execution_count": null,
      "outputs": [
        {
          "output_type": "execute_result",
          "data": {
            "text/plain": [
              "(925, 13)"
            ]
          },
          "metadata": {},
          "execution_count": 242
        }
      ]
    },
    {
      "cell_type": "markdown",
      "source": [
        "Non numeric values in the target label"
      ],
      "metadata": {
        "id": "K5UwNLpY9Z5a"
      }
    },
    {
      "cell_type": "code",
      "source": [
        "# here i check for non numneric data in the target label in the training set\n",
        "# if there are some then i will also delete them\n",
        "# np.isreal will see which cells are numerical, if their number is the same as total rows\n",
        "# that means all values are numric\n",
        "import numpy as np\n",
        "result = df_train['Total Sales per Day (euros)'].map(np.isreal)\n",
        "result"
      ],
      "metadata": {
        "colab": {
          "base_uri": "https://localhost:8080/"
        },
        "id": "ykyT_v33jn7D",
        "outputId": "4b1ce6bb-f608-4f5c-a147-5e40feeaa876"
      },
      "execution_count": null,
      "outputs": [
        {
          "output_type": "execute_result",
          "data": {
            "text/plain": [
              "1262    True\n",
              "1161    True\n",
              "558     True\n",
              "930     True\n",
              "141     True\n",
              "        ... \n",
              "1003    True\n",
              "1217    True\n",
              "119     True\n",
              "633     True\n",
              "1215    True\n",
              "Name: Total Sales per Day (euros), Length: 925, dtype: bool"
            ]
          },
          "metadata": {},
          "execution_count": 243
        }
      ]
    },
    {
      "cell_type": "markdown",
      "source": [
        "Data engineering"
      ],
      "metadata": {
        "id": "beahjma3TA_Y"
      }
    },
    {
      "cell_type": "code",
      "source": [
        "#Here in the dataset there are columns that have categorial values\n",
        "#we can get better results if we turned these data to numerical data\n",
        "#i also need to load the libraries\n",
        "# first i will see the current type of each column in the data\n",
        "df.dtypes"
      ],
      "metadata": {
        "colab": {
          "base_uri": "https://localhost:8080/"
        },
        "id": "A2kRC__gTAGM",
        "outputId": "62a1a013-9deb-4747-bc27-b3ba57ff5a1b"
      },
      "execution_count": null,
      "outputs": [
        {
          "output_type": "execute_result",
          "data": {
            "text/plain": [
              "Company                         object\n",
              "Product                         object\n",
              "TypeName                        object\n",
              "Inches                         float64\n",
              "ScreenResolution                object\n",
              "Cpu                             object\n",
              "Ram (GB)                         int64\n",
              "Memory                          object\n",
              "Gpu                             object\n",
              "OpSys                           object\n",
              "Weight                         float64\n",
              "Price_euros                    float64\n",
              "Total Sales per Day (euros)    float64\n",
              "dtype: object"
            ]
          },
          "metadata": {},
          "execution_count": 244
        }
      ]
    },
    {
      "cell_type": "markdown",
      "source": [
        "Splitting the data into Y(target label) and X(rest of columns)"
      ],
      "metadata": {
        "id": "uYGscDN__DYj"
      }
    },
    {
      "cell_type": "code",
      "source": [
        "x_train = df_train.drop([\"Total Sales per Day (euros)\"], axis = 1)\n",
        "y_train = df_train[\"Total Sales per Day (euros)\"]\n",
        "\n",
        "x_test = df_test.drop([\"Total Sales per Day (euros)\"], axis = 1)\n",
        "y_test = df_test[\"Total Sales per Day (euros)\"]\n",
        "\n",
        "print(\"x train size:\", x_train.shape)\n",
        "print(\"x test size:\", x_test.shape)\n",
        "print(\"y train size:\", y_train.shape)\n",
        "print(\"y test size:\", y_test.shape)"
      ],
      "metadata": {
        "colab": {
          "base_uri": "https://localhost:8080/"
        },
        "id": "Pw90LsVM_D2s",
        "outputId": "bcd21e96-7185-444e-96b1-cd9b38307a1e"
      },
      "execution_count": null,
      "outputs": [
        {
          "output_type": "stream",
          "name": "stdout",
          "text": [
            "x train size: (925, 12)\n",
            "x test size: (326, 12)\n",
            "y train size: (925,)\n",
            "y test size: (326,)\n"
          ]
        }
      ]
    },
    {
      "cell_type": "code",
      "source": [
        "# here i will upload onehotencoder to use to encode non categorical data\n",
        "\n",
        "from sklearn.preprocessing import OneHotEncoder, OrdinalEncoder\n",
        "from sklearn.compose import ColumnTransformer"
      ],
      "metadata": {
        "id": "tA6luZHi9v2U"
      },
      "execution_count": null,
      "outputs": []
    },
    {
      "cell_type": "code",
      "source": [
        "# i will use one hot encoding for columns with not many unique values\n",
        "# and also don't have an inherent order\n",
        "# and i will use ordinal encoder for data with inherent order\n",
        "\n",
        "CT = ColumnTransformer(transformers=[('encode', OneHotEncoder(), ['Company', 'TypeName', 'OpSys', 'Product']), ('ordinal_encoder', OrdinalEncoder(), ['ScreenResolution', 'Cpu', 'Gpu', 'Memory'])], remainder = 'passthrough')"
      ],
      "metadata": {
        "id": "uEwHxSKd99Kp"
      },
      "execution_count": null,
      "outputs": []
    },
    {
      "cell_type": "code",
      "source": [
        "# first we must turn these 2 columns first into full strings\n",
        "x_train['Product'] = x_train['Product'].astype(str)\n",
        "x_test['Product'] = x_test['Product'].astype(str)"
      ],
      "metadata": {
        "id": "xoLYmPs49-3U"
      },
      "execution_count": null,
      "outputs": []
    },
    {
      "cell_type": "code",
      "source": [
        "x_train = CT.fit_transform(x_train)\n",
        "x_test = CT.fit_transform(x_test)"
      ],
      "metadata": {
        "id": "BEVKknTP-CWI"
      },
      "execution_count": null,
      "outputs": []
    },
    {
      "cell_type": "code",
      "source": [
        "# i must do dimensionalty reduction after the column transfer\n",
        "# as there should no mismatch of dimensions of the input/fitted data and the expected number of features\n",
        "# during testing\n",
        "# PCA can't deal with sparse data so i will use TruncatedSVD\n",
        "from sklearn.decomposition import TruncatedSVD\n",
        "\n",
        "svd = TruncatedSVD(n_components=6)\n",
        "\n",
        "x_train = svd.fit_transform(x_train)\n",
        "x_test = svd.fit_transform(x_test)\n",
        "\n",
        "print(\"x_test:\", x_test.shape)\n",
        "print(\"x_train:\", x_train.shape)"
      ],
      "metadata": {
        "colab": {
          "base_uri": "https://localhost:8080/"
        },
        "id": "ETsxh7dCPoug",
        "outputId": "efac616b-34bd-4dc2-d58e-ae511ebe2971"
      },
      "execution_count": null,
      "outputs": [
        {
          "output_type": "stream",
          "name": "stdout",
          "text": [
            "x_test: (326, 6)\n",
            "x_train: (925, 6)\n"
          ]
        }
      ]
    },
    {
      "cell_type": "markdown",
      "source": [
        "Testing the algorathims"
      ],
      "metadata": {
        "id": "Z8oR8Mqa_PCz"
      }
    },
    {
      "cell_type": "code",
      "source": [
        "#here i will put an object to each machine learning algoarithm that i will use here\n",
        "LR = sklearn.linear_model.LinearRegression()\n",
        "knn = sklearn.neighbors.KNeighborsRegressor()\n",
        "dt = sklearn.tree.DecisionTreeRegressor()\n",
        "svm = sklearn.svm.SVR()"
      ],
      "metadata": {
        "id": "RfcQf2Lx_Pmd"
      },
      "execution_count": null,
      "outputs": []
    },
    {
      "cell_type": "code",
      "source": [
        "#first i will check several tunings of some selected hyperparameters\n",
        "# try low and higher number of knn neighbors\n",
        "knn_param_grid = {'n_neighbors': [2,3, 5, 6, 7, 8, 10]}\n",
        "# considering big number of features, 10 could be a good minimum number for the tree depth\n",
        "dt_param_grid = { 'max_depth': [10, 20, 5, 15, 2, 3, 4, None]}\n",
        "#linear is good for big number of features\n",
        "#rbf is good bcause the relation of the target variable with other columns could be non linear.\n",
        "svm_param_grid = {'kernel': [ 'rbf' ]}\n",
        "# here i want to check if using all cpu cores will have different results\n",
        "LR_param_grid = { 'n_jobs': [None,-1]}"
      ],
      "metadata": {
        "id": "QxD95_Jc_Sih"
      },
      "execution_count": null,
      "outputs": []
    },
    {
      "cell_type": "code",
      "source": [
        "#now i will apply gridsearch to the algorathims with tuned hyperparameters\n",
        "#i will set the number of folds to 5\n",
        "from sklearn.model_selection import GridSearchCV\n",
        "\n",
        "knn_gs = GridSearchCV(knn, knn_param_grid, cv=5, scoring='neg_mean_squared_error')\n",
        "knn_gs.fit(x_train, y_train)"
      ],
      "metadata": {
        "colab": {
          "base_uri": "https://localhost:8080/",
          "height": 116
        },
        "id": "XBI2vEp6_gP3",
        "outputId": "aeddef72-f40c-4696-9d01-4d445305ab64"
      },
      "execution_count": null,
      "outputs": [
        {
          "output_type": "execute_result",
          "data": {
            "text/plain": [
              "GridSearchCV(cv=5, estimator=KNeighborsRegressor(),\n",
              "             param_grid={'n_neighbors': [2, 3, 5, 6, 7, 8, 10]},\n",
              "             scoring='neg_mean_squared_error')"
            ],
            "text/html": [
              "<style>#sk-container-id-21 {color: black;background-color: white;}#sk-container-id-21 pre{padding: 0;}#sk-container-id-21 div.sk-toggleable {background-color: white;}#sk-container-id-21 label.sk-toggleable__label {cursor: pointer;display: block;width: 100%;margin-bottom: 0;padding: 0.3em;box-sizing: border-box;text-align: center;}#sk-container-id-21 label.sk-toggleable__label-arrow:before {content: \"▸\";float: left;margin-right: 0.25em;color: #696969;}#sk-container-id-21 label.sk-toggleable__label-arrow:hover:before {color: black;}#sk-container-id-21 div.sk-estimator:hover label.sk-toggleable__label-arrow:before {color: black;}#sk-container-id-21 div.sk-toggleable__content {max-height: 0;max-width: 0;overflow: hidden;text-align: left;background-color: #f0f8ff;}#sk-container-id-21 div.sk-toggleable__content pre {margin: 0.2em;color: black;border-radius: 0.25em;background-color: #f0f8ff;}#sk-container-id-21 input.sk-toggleable__control:checked~div.sk-toggleable__content {max-height: 200px;max-width: 100%;overflow: auto;}#sk-container-id-21 input.sk-toggleable__control:checked~label.sk-toggleable__label-arrow:before {content: \"▾\";}#sk-container-id-21 div.sk-estimator input.sk-toggleable__control:checked~label.sk-toggleable__label {background-color: #d4ebff;}#sk-container-id-21 div.sk-label input.sk-toggleable__control:checked~label.sk-toggleable__label {background-color: #d4ebff;}#sk-container-id-21 input.sk-hidden--visually {border: 0;clip: rect(1px 1px 1px 1px);clip: rect(1px, 1px, 1px, 1px);height: 1px;margin: -1px;overflow: hidden;padding: 0;position: absolute;width: 1px;}#sk-container-id-21 div.sk-estimator {font-family: monospace;background-color: #f0f8ff;border: 1px dotted black;border-radius: 0.25em;box-sizing: border-box;margin-bottom: 0.5em;}#sk-container-id-21 div.sk-estimator:hover {background-color: #d4ebff;}#sk-container-id-21 div.sk-parallel-item::after {content: \"\";width: 100%;border-bottom: 1px solid gray;flex-grow: 1;}#sk-container-id-21 div.sk-label:hover label.sk-toggleable__label {background-color: #d4ebff;}#sk-container-id-21 div.sk-serial::before {content: \"\";position: absolute;border-left: 1px solid gray;box-sizing: border-box;top: 0;bottom: 0;left: 50%;z-index: 0;}#sk-container-id-21 div.sk-serial {display: flex;flex-direction: column;align-items: center;background-color: white;padding-right: 0.2em;padding-left: 0.2em;position: relative;}#sk-container-id-21 div.sk-item {position: relative;z-index: 1;}#sk-container-id-21 div.sk-parallel {display: flex;align-items: stretch;justify-content: center;background-color: white;position: relative;}#sk-container-id-21 div.sk-item::before, #sk-container-id-21 div.sk-parallel-item::before {content: \"\";position: absolute;border-left: 1px solid gray;box-sizing: border-box;top: 0;bottom: 0;left: 50%;z-index: -1;}#sk-container-id-21 div.sk-parallel-item {display: flex;flex-direction: column;z-index: 1;position: relative;background-color: white;}#sk-container-id-21 div.sk-parallel-item:first-child::after {align-self: flex-end;width: 50%;}#sk-container-id-21 div.sk-parallel-item:last-child::after {align-self: flex-start;width: 50%;}#sk-container-id-21 div.sk-parallel-item:only-child::after {width: 0;}#sk-container-id-21 div.sk-dashed-wrapped {border: 1px dashed gray;margin: 0 0.4em 0.5em 0.4em;box-sizing: border-box;padding-bottom: 0.4em;background-color: white;}#sk-container-id-21 div.sk-label label {font-family: monospace;font-weight: bold;display: inline-block;line-height: 1.2em;}#sk-container-id-21 div.sk-label-container {text-align: center;}#sk-container-id-21 div.sk-container {/* jupyter's `normalize.less` sets `[hidden] { display: none; }` but bootstrap.min.css set `[hidden] { display: none !important; }` so we also need the `!important` here to be able to override the default hidden behavior on the sphinx rendered scikit-learn.org. See: https://github.com/scikit-learn/scikit-learn/issues/21755 */display: inline-block !important;position: relative;}#sk-container-id-21 div.sk-text-repr-fallback {display: none;}</style><div id=\"sk-container-id-21\" class=\"sk-top-container\"><div class=\"sk-text-repr-fallback\"><pre>GridSearchCV(cv=5, estimator=KNeighborsRegressor(),\n",
              "             param_grid={&#x27;n_neighbors&#x27;: [2, 3, 5, 6, 7, 8, 10]},\n",
              "             scoring=&#x27;neg_mean_squared_error&#x27;)</pre><b>In a Jupyter environment, please rerun this cell to show the HTML representation or trust the notebook. <br />On GitHub, the HTML representation is unable to render, please try loading this page with nbviewer.org.</b></div><div class=\"sk-container\" hidden><div class=\"sk-item sk-dashed-wrapped\"><div class=\"sk-label-container\"><div class=\"sk-label sk-toggleable\"><input class=\"sk-toggleable__control sk-hidden--visually\" id=\"sk-estimator-id-53\" type=\"checkbox\" ><label for=\"sk-estimator-id-53\" class=\"sk-toggleable__label sk-toggleable__label-arrow\">GridSearchCV</label><div class=\"sk-toggleable__content\"><pre>GridSearchCV(cv=5, estimator=KNeighborsRegressor(),\n",
              "             param_grid={&#x27;n_neighbors&#x27;: [2, 3, 5, 6, 7, 8, 10]},\n",
              "             scoring=&#x27;neg_mean_squared_error&#x27;)</pre></div></div></div><div class=\"sk-parallel\"><div class=\"sk-parallel-item\"><div class=\"sk-item\"><div class=\"sk-label-container\"><div class=\"sk-label sk-toggleable\"><input class=\"sk-toggleable__control sk-hidden--visually\" id=\"sk-estimator-id-54\" type=\"checkbox\" ><label for=\"sk-estimator-id-54\" class=\"sk-toggleable__label sk-toggleable__label-arrow\">estimator: KNeighborsRegressor</label><div class=\"sk-toggleable__content\"><pre>KNeighborsRegressor()</pre></div></div></div><div class=\"sk-serial\"><div class=\"sk-item\"><div class=\"sk-estimator sk-toggleable\"><input class=\"sk-toggleable__control sk-hidden--visually\" id=\"sk-estimator-id-55\" type=\"checkbox\" ><label for=\"sk-estimator-id-55\" class=\"sk-toggleable__label sk-toggleable__label-arrow\">KNeighborsRegressor</label><div class=\"sk-toggleable__content\"><pre>KNeighborsRegressor()</pre></div></div></div></div></div></div></div></div></div></div>"
            ]
          },
          "metadata": {},
          "execution_count": 253
        }
      ]
    },
    {
      "cell_type": "code",
      "source": [
        "dt_gs = GridSearchCV(dt, dt_param_grid, cv=5, scoring='neg_mean_squared_error')\n",
        "dt_gs.fit(x_train, y_train)"
      ],
      "metadata": {
        "colab": {
          "base_uri": "https://localhost:8080/",
          "height": 116
        },
        "id": "xE1lX1wh_h2x",
        "outputId": "cefc1fba-8c10-4a4d-be0c-6d83b54423d8"
      },
      "execution_count": null,
      "outputs": [
        {
          "output_type": "execute_result",
          "data": {
            "text/plain": [
              "GridSearchCV(cv=5, estimator=DecisionTreeRegressor(),\n",
              "             param_grid={'max_depth': [10, 20, 5, 15, 2, 3, 4, None]},\n",
              "             scoring='neg_mean_squared_error')"
            ],
            "text/html": [
              "<style>#sk-container-id-22 {color: black;background-color: white;}#sk-container-id-22 pre{padding: 0;}#sk-container-id-22 div.sk-toggleable {background-color: white;}#sk-container-id-22 label.sk-toggleable__label {cursor: pointer;display: block;width: 100%;margin-bottom: 0;padding: 0.3em;box-sizing: border-box;text-align: center;}#sk-container-id-22 label.sk-toggleable__label-arrow:before {content: \"▸\";float: left;margin-right: 0.25em;color: #696969;}#sk-container-id-22 label.sk-toggleable__label-arrow:hover:before {color: black;}#sk-container-id-22 div.sk-estimator:hover label.sk-toggleable__label-arrow:before {color: black;}#sk-container-id-22 div.sk-toggleable__content {max-height: 0;max-width: 0;overflow: hidden;text-align: left;background-color: #f0f8ff;}#sk-container-id-22 div.sk-toggleable__content pre {margin: 0.2em;color: black;border-radius: 0.25em;background-color: #f0f8ff;}#sk-container-id-22 input.sk-toggleable__control:checked~div.sk-toggleable__content {max-height: 200px;max-width: 100%;overflow: auto;}#sk-container-id-22 input.sk-toggleable__control:checked~label.sk-toggleable__label-arrow:before {content: \"▾\";}#sk-container-id-22 div.sk-estimator input.sk-toggleable__control:checked~label.sk-toggleable__label {background-color: #d4ebff;}#sk-container-id-22 div.sk-label input.sk-toggleable__control:checked~label.sk-toggleable__label {background-color: #d4ebff;}#sk-container-id-22 input.sk-hidden--visually {border: 0;clip: rect(1px 1px 1px 1px);clip: rect(1px, 1px, 1px, 1px);height: 1px;margin: -1px;overflow: hidden;padding: 0;position: absolute;width: 1px;}#sk-container-id-22 div.sk-estimator {font-family: monospace;background-color: #f0f8ff;border: 1px dotted black;border-radius: 0.25em;box-sizing: border-box;margin-bottom: 0.5em;}#sk-container-id-22 div.sk-estimator:hover {background-color: #d4ebff;}#sk-container-id-22 div.sk-parallel-item::after {content: \"\";width: 100%;border-bottom: 1px solid gray;flex-grow: 1;}#sk-container-id-22 div.sk-label:hover label.sk-toggleable__label {background-color: #d4ebff;}#sk-container-id-22 div.sk-serial::before {content: \"\";position: absolute;border-left: 1px solid gray;box-sizing: border-box;top: 0;bottom: 0;left: 50%;z-index: 0;}#sk-container-id-22 div.sk-serial {display: flex;flex-direction: column;align-items: center;background-color: white;padding-right: 0.2em;padding-left: 0.2em;position: relative;}#sk-container-id-22 div.sk-item {position: relative;z-index: 1;}#sk-container-id-22 div.sk-parallel {display: flex;align-items: stretch;justify-content: center;background-color: white;position: relative;}#sk-container-id-22 div.sk-item::before, #sk-container-id-22 div.sk-parallel-item::before {content: \"\";position: absolute;border-left: 1px solid gray;box-sizing: border-box;top: 0;bottom: 0;left: 50%;z-index: -1;}#sk-container-id-22 div.sk-parallel-item {display: flex;flex-direction: column;z-index: 1;position: relative;background-color: white;}#sk-container-id-22 div.sk-parallel-item:first-child::after {align-self: flex-end;width: 50%;}#sk-container-id-22 div.sk-parallel-item:last-child::after {align-self: flex-start;width: 50%;}#sk-container-id-22 div.sk-parallel-item:only-child::after {width: 0;}#sk-container-id-22 div.sk-dashed-wrapped {border: 1px dashed gray;margin: 0 0.4em 0.5em 0.4em;box-sizing: border-box;padding-bottom: 0.4em;background-color: white;}#sk-container-id-22 div.sk-label label {font-family: monospace;font-weight: bold;display: inline-block;line-height: 1.2em;}#sk-container-id-22 div.sk-label-container {text-align: center;}#sk-container-id-22 div.sk-container {/* jupyter's `normalize.less` sets `[hidden] { display: none; }` but bootstrap.min.css set `[hidden] { display: none !important; }` so we also need the `!important` here to be able to override the default hidden behavior on the sphinx rendered scikit-learn.org. See: https://github.com/scikit-learn/scikit-learn/issues/21755 */display: inline-block !important;position: relative;}#sk-container-id-22 div.sk-text-repr-fallback {display: none;}</style><div id=\"sk-container-id-22\" class=\"sk-top-container\"><div class=\"sk-text-repr-fallback\"><pre>GridSearchCV(cv=5, estimator=DecisionTreeRegressor(),\n",
              "             param_grid={&#x27;max_depth&#x27;: [10, 20, 5, 15, 2, 3, 4, None]},\n",
              "             scoring=&#x27;neg_mean_squared_error&#x27;)</pre><b>In a Jupyter environment, please rerun this cell to show the HTML representation or trust the notebook. <br />On GitHub, the HTML representation is unable to render, please try loading this page with nbviewer.org.</b></div><div class=\"sk-container\" hidden><div class=\"sk-item sk-dashed-wrapped\"><div class=\"sk-label-container\"><div class=\"sk-label sk-toggleable\"><input class=\"sk-toggleable__control sk-hidden--visually\" id=\"sk-estimator-id-56\" type=\"checkbox\" ><label for=\"sk-estimator-id-56\" class=\"sk-toggleable__label sk-toggleable__label-arrow\">GridSearchCV</label><div class=\"sk-toggleable__content\"><pre>GridSearchCV(cv=5, estimator=DecisionTreeRegressor(),\n",
              "             param_grid={&#x27;max_depth&#x27;: [10, 20, 5, 15, 2, 3, 4, None]},\n",
              "             scoring=&#x27;neg_mean_squared_error&#x27;)</pre></div></div></div><div class=\"sk-parallel\"><div class=\"sk-parallel-item\"><div class=\"sk-item\"><div class=\"sk-label-container\"><div class=\"sk-label sk-toggleable\"><input class=\"sk-toggleable__control sk-hidden--visually\" id=\"sk-estimator-id-57\" type=\"checkbox\" ><label for=\"sk-estimator-id-57\" class=\"sk-toggleable__label sk-toggleable__label-arrow\">estimator: DecisionTreeRegressor</label><div class=\"sk-toggleable__content\"><pre>DecisionTreeRegressor()</pre></div></div></div><div class=\"sk-serial\"><div class=\"sk-item\"><div class=\"sk-estimator sk-toggleable\"><input class=\"sk-toggleable__control sk-hidden--visually\" id=\"sk-estimator-id-58\" type=\"checkbox\" ><label for=\"sk-estimator-id-58\" class=\"sk-toggleable__label sk-toggleable__label-arrow\">DecisionTreeRegressor</label><div class=\"sk-toggleable__content\"><pre>DecisionTreeRegressor()</pre></div></div></div></div></div></div></div></div></div></div>"
            ]
          },
          "metadata": {},
          "execution_count": 254
        }
      ]
    },
    {
      "cell_type": "code",
      "source": [
        "LR_gs = GridSearchCV(LR, LR_param_grid, cv=5, scoring='neg_mean_squared_error')\n",
        "LR_gs.fit(x_train, y_train)"
      ],
      "metadata": {
        "colab": {
          "base_uri": "https://localhost:8080/",
          "height": 116
        },
        "id": "MWHhVyVq_iSh",
        "outputId": "2fc264c8-84f7-4c3b-d863-ca4b7d96a051"
      },
      "execution_count": null,
      "outputs": [
        {
          "output_type": "execute_result",
          "data": {
            "text/plain": [
              "GridSearchCV(cv=5, estimator=LinearRegression(),\n",
              "             param_grid={'n_jobs': [None, -1]},\n",
              "             scoring='neg_mean_squared_error')"
            ],
            "text/html": [
              "<style>#sk-container-id-23 {color: black;background-color: white;}#sk-container-id-23 pre{padding: 0;}#sk-container-id-23 div.sk-toggleable {background-color: white;}#sk-container-id-23 label.sk-toggleable__label {cursor: pointer;display: block;width: 100%;margin-bottom: 0;padding: 0.3em;box-sizing: border-box;text-align: center;}#sk-container-id-23 label.sk-toggleable__label-arrow:before {content: \"▸\";float: left;margin-right: 0.25em;color: #696969;}#sk-container-id-23 label.sk-toggleable__label-arrow:hover:before {color: black;}#sk-container-id-23 div.sk-estimator:hover label.sk-toggleable__label-arrow:before {color: black;}#sk-container-id-23 div.sk-toggleable__content {max-height: 0;max-width: 0;overflow: hidden;text-align: left;background-color: #f0f8ff;}#sk-container-id-23 div.sk-toggleable__content pre {margin: 0.2em;color: black;border-radius: 0.25em;background-color: #f0f8ff;}#sk-container-id-23 input.sk-toggleable__control:checked~div.sk-toggleable__content {max-height: 200px;max-width: 100%;overflow: auto;}#sk-container-id-23 input.sk-toggleable__control:checked~label.sk-toggleable__label-arrow:before {content: \"▾\";}#sk-container-id-23 div.sk-estimator input.sk-toggleable__control:checked~label.sk-toggleable__label {background-color: #d4ebff;}#sk-container-id-23 div.sk-label input.sk-toggleable__control:checked~label.sk-toggleable__label {background-color: #d4ebff;}#sk-container-id-23 input.sk-hidden--visually {border: 0;clip: rect(1px 1px 1px 1px);clip: rect(1px, 1px, 1px, 1px);height: 1px;margin: -1px;overflow: hidden;padding: 0;position: absolute;width: 1px;}#sk-container-id-23 div.sk-estimator {font-family: monospace;background-color: #f0f8ff;border: 1px dotted black;border-radius: 0.25em;box-sizing: border-box;margin-bottom: 0.5em;}#sk-container-id-23 div.sk-estimator:hover {background-color: #d4ebff;}#sk-container-id-23 div.sk-parallel-item::after {content: \"\";width: 100%;border-bottom: 1px solid gray;flex-grow: 1;}#sk-container-id-23 div.sk-label:hover label.sk-toggleable__label {background-color: #d4ebff;}#sk-container-id-23 div.sk-serial::before {content: \"\";position: absolute;border-left: 1px solid gray;box-sizing: border-box;top: 0;bottom: 0;left: 50%;z-index: 0;}#sk-container-id-23 div.sk-serial {display: flex;flex-direction: column;align-items: center;background-color: white;padding-right: 0.2em;padding-left: 0.2em;position: relative;}#sk-container-id-23 div.sk-item {position: relative;z-index: 1;}#sk-container-id-23 div.sk-parallel {display: flex;align-items: stretch;justify-content: center;background-color: white;position: relative;}#sk-container-id-23 div.sk-item::before, #sk-container-id-23 div.sk-parallel-item::before {content: \"\";position: absolute;border-left: 1px solid gray;box-sizing: border-box;top: 0;bottom: 0;left: 50%;z-index: -1;}#sk-container-id-23 div.sk-parallel-item {display: flex;flex-direction: column;z-index: 1;position: relative;background-color: white;}#sk-container-id-23 div.sk-parallel-item:first-child::after {align-self: flex-end;width: 50%;}#sk-container-id-23 div.sk-parallel-item:last-child::after {align-self: flex-start;width: 50%;}#sk-container-id-23 div.sk-parallel-item:only-child::after {width: 0;}#sk-container-id-23 div.sk-dashed-wrapped {border: 1px dashed gray;margin: 0 0.4em 0.5em 0.4em;box-sizing: border-box;padding-bottom: 0.4em;background-color: white;}#sk-container-id-23 div.sk-label label {font-family: monospace;font-weight: bold;display: inline-block;line-height: 1.2em;}#sk-container-id-23 div.sk-label-container {text-align: center;}#sk-container-id-23 div.sk-container {/* jupyter's `normalize.less` sets `[hidden] { display: none; }` but bootstrap.min.css set `[hidden] { display: none !important; }` so we also need the `!important` here to be able to override the default hidden behavior on the sphinx rendered scikit-learn.org. See: https://github.com/scikit-learn/scikit-learn/issues/21755 */display: inline-block !important;position: relative;}#sk-container-id-23 div.sk-text-repr-fallback {display: none;}</style><div id=\"sk-container-id-23\" class=\"sk-top-container\"><div class=\"sk-text-repr-fallback\"><pre>GridSearchCV(cv=5, estimator=LinearRegression(),\n",
              "             param_grid={&#x27;n_jobs&#x27;: [None, -1]},\n",
              "             scoring=&#x27;neg_mean_squared_error&#x27;)</pre><b>In a Jupyter environment, please rerun this cell to show the HTML representation or trust the notebook. <br />On GitHub, the HTML representation is unable to render, please try loading this page with nbviewer.org.</b></div><div class=\"sk-container\" hidden><div class=\"sk-item sk-dashed-wrapped\"><div class=\"sk-label-container\"><div class=\"sk-label sk-toggleable\"><input class=\"sk-toggleable__control sk-hidden--visually\" id=\"sk-estimator-id-59\" type=\"checkbox\" ><label for=\"sk-estimator-id-59\" class=\"sk-toggleable__label sk-toggleable__label-arrow\">GridSearchCV</label><div class=\"sk-toggleable__content\"><pre>GridSearchCV(cv=5, estimator=LinearRegression(),\n",
              "             param_grid={&#x27;n_jobs&#x27;: [None, -1]},\n",
              "             scoring=&#x27;neg_mean_squared_error&#x27;)</pre></div></div></div><div class=\"sk-parallel\"><div class=\"sk-parallel-item\"><div class=\"sk-item\"><div class=\"sk-label-container\"><div class=\"sk-label sk-toggleable\"><input class=\"sk-toggleable__control sk-hidden--visually\" id=\"sk-estimator-id-60\" type=\"checkbox\" ><label for=\"sk-estimator-id-60\" class=\"sk-toggleable__label sk-toggleable__label-arrow\">estimator: LinearRegression</label><div class=\"sk-toggleable__content\"><pre>LinearRegression()</pre></div></div></div><div class=\"sk-serial\"><div class=\"sk-item\"><div class=\"sk-estimator sk-toggleable\"><input class=\"sk-toggleable__control sk-hidden--visually\" id=\"sk-estimator-id-61\" type=\"checkbox\" ><label for=\"sk-estimator-id-61\" class=\"sk-toggleable__label sk-toggleable__label-arrow\">LinearRegression</label><div class=\"sk-toggleable__content\"><pre>LinearRegression()</pre></div></div></div></div></div></div></div></div></div></div>"
            ]
          },
          "metadata": {},
          "execution_count": 255
        }
      ]
    },
    {
      "cell_type": "code",
      "source": [
        "svm_gs = GridSearchCV(svm, svm_param_grid, cv=10, scoring='neg_mean_squared_error')\n",
        "svm_gs.fit(x_train, y_train)"
      ],
      "metadata": {
        "id": "7K70e6MS_nmm",
        "colab": {
          "base_uri": "https://localhost:8080/",
          "height": 116
        },
        "outputId": "fbb10a97-6f8d-46b8-8362-bc8c4449fbb0"
      },
      "execution_count": null,
      "outputs": [
        {
          "output_type": "execute_result",
          "data": {
            "text/plain": [
              "GridSearchCV(cv=10, estimator=SVR(), param_grid={'kernel': ['rbf']},\n",
              "             scoring='neg_mean_squared_error')"
            ],
            "text/html": [
              "<style>#sk-container-id-24 {color: black;background-color: white;}#sk-container-id-24 pre{padding: 0;}#sk-container-id-24 div.sk-toggleable {background-color: white;}#sk-container-id-24 label.sk-toggleable__label {cursor: pointer;display: block;width: 100%;margin-bottom: 0;padding: 0.3em;box-sizing: border-box;text-align: center;}#sk-container-id-24 label.sk-toggleable__label-arrow:before {content: \"▸\";float: left;margin-right: 0.25em;color: #696969;}#sk-container-id-24 label.sk-toggleable__label-arrow:hover:before {color: black;}#sk-container-id-24 div.sk-estimator:hover label.sk-toggleable__label-arrow:before {color: black;}#sk-container-id-24 div.sk-toggleable__content {max-height: 0;max-width: 0;overflow: hidden;text-align: left;background-color: #f0f8ff;}#sk-container-id-24 div.sk-toggleable__content pre {margin: 0.2em;color: black;border-radius: 0.25em;background-color: #f0f8ff;}#sk-container-id-24 input.sk-toggleable__control:checked~div.sk-toggleable__content {max-height: 200px;max-width: 100%;overflow: auto;}#sk-container-id-24 input.sk-toggleable__control:checked~label.sk-toggleable__label-arrow:before {content: \"▾\";}#sk-container-id-24 div.sk-estimator input.sk-toggleable__control:checked~label.sk-toggleable__label {background-color: #d4ebff;}#sk-container-id-24 div.sk-label input.sk-toggleable__control:checked~label.sk-toggleable__label {background-color: #d4ebff;}#sk-container-id-24 input.sk-hidden--visually {border: 0;clip: rect(1px 1px 1px 1px);clip: rect(1px, 1px, 1px, 1px);height: 1px;margin: -1px;overflow: hidden;padding: 0;position: absolute;width: 1px;}#sk-container-id-24 div.sk-estimator {font-family: monospace;background-color: #f0f8ff;border: 1px dotted black;border-radius: 0.25em;box-sizing: border-box;margin-bottom: 0.5em;}#sk-container-id-24 div.sk-estimator:hover {background-color: #d4ebff;}#sk-container-id-24 div.sk-parallel-item::after {content: \"\";width: 100%;border-bottom: 1px solid gray;flex-grow: 1;}#sk-container-id-24 div.sk-label:hover label.sk-toggleable__label {background-color: #d4ebff;}#sk-container-id-24 div.sk-serial::before {content: \"\";position: absolute;border-left: 1px solid gray;box-sizing: border-box;top: 0;bottom: 0;left: 50%;z-index: 0;}#sk-container-id-24 div.sk-serial {display: flex;flex-direction: column;align-items: center;background-color: white;padding-right: 0.2em;padding-left: 0.2em;position: relative;}#sk-container-id-24 div.sk-item {position: relative;z-index: 1;}#sk-container-id-24 div.sk-parallel {display: flex;align-items: stretch;justify-content: center;background-color: white;position: relative;}#sk-container-id-24 div.sk-item::before, #sk-container-id-24 div.sk-parallel-item::before {content: \"\";position: absolute;border-left: 1px solid gray;box-sizing: border-box;top: 0;bottom: 0;left: 50%;z-index: -1;}#sk-container-id-24 div.sk-parallel-item {display: flex;flex-direction: column;z-index: 1;position: relative;background-color: white;}#sk-container-id-24 div.sk-parallel-item:first-child::after {align-self: flex-end;width: 50%;}#sk-container-id-24 div.sk-parallel-item:last-child::after {align-self: flex-start;width: 50%;}#sk-container-id-24 div.sk-parallel-item:only-child::after {width: 0;}#sk-container-id-24 div.sk-dashed-wrapped {border: 1px dashed gray;margin: 0 0.4em 0.5em 0.4em;box-sizing: border-box;padding-bottom: 0.4em;background-color: white;}#sk-container-id-24 div.sk-label label {font-family: monospace;font-weight: bold;display: inline-block;line-height: 1.2em;}#sk-container-id-24 div.sk-label-container {text-align: center;}#sk-container-id-24 div.sk-container {/* jupyter's `normalize.less` sets `[hidden] { display: none; }` but bootstrap.min.css set `[hidden] { display: none !important; }` so we also need the `!important` here to be able to override the default hidden behavior on the sphinx rendered scikit-learn.org. See: https://github.com/scikit-learn/scikit-learn/issues/21755 */display: inline-block !important;position: relative;}#sk-container-id-24 div.sk-text-repr-fallback {display: none;}</style><div id=\"sk-container-id-24\" class=\"sk-top-container\"><div class=\"sk-text-repr-fallback\"><pre>GridSearchCV(cv=10, estimator=SVR(), param_grid={&#x27;kernel&#x27;: [&#x27;rbf&#x27;]},\n",
              "             scoring=&#x27;neg_mean_squared_error&#x27;)</pre><b>In a Jupyter environment, please rerun this cell to show the HTML representation or trust the notebook. <br />On GitHub, the HTML representation is unable to render, please try loading this page with nbviewer.org.</b></div><div class=\"sk-container\" hidden><div class=\"sk-item sk-dashed-wrapped\"><div class=\"sk-label-container\"><div class=\"sk-label sk-toggleable\"><input class=\"sk-toggleable__control sk-hidden--visually\" id=\"sk-estimator-id-62\" type=\"checkbox\" ><label for=\"sk-estimator-id-62\" class=\"sk-toggleable__label sk-toggleable__label-arrow\">GridSearchCV</label><div class=\"sk-toggleable__content\"><pre>GridSearchCV(cv=10, estimator=SVR(), param_grid={&#x27;kernel&#x27;: [&#x27;rbf&#x27;]},\n",
              "             scoring=&#x27;neg_mean_squared_error&#x27;)</pre></div></div></div><div class=\"sk-parallel\"><div class=\"sk-parallel-item\"><div class=\"sk-item\"><div class=\"sk-label-container\"><div class=\"sk-label sk-toggleable\"><input class=\"sk-toggleable__control sk-hidden--visually\" id=\"sk-estimator-id-63\" type=\"checkbox\" ><label for=\"sk-estimator-id-63\" class=\"sk-toggleable__label sk-toggleable__label-arrow\">estimator: SVR</label><div class=\"sk-toggleable__content\"><pre>SVR()</pre></div></div></div><div class=\"sk-serial\"><div class=\"sk-item\"><div class=\"sk-estimator sk-toggleable\"><input class=\"sk-toggleable__control sk-hidden--visually\" id=\"sk-estimator-id-64\" type=\"checkbox\" ><label for=\"sk-estimator-id-64\" class=\"sk-toggleable__label sk-toggleable__label-arrow\">SVR</label><div class=\"sk-toggleable__content\"><pre>SVR()</pre></div></div></div></div></div></div></div></div></div></div>"
            ]
          },
          "metadata": {},
          "execution_count": 256
        }
      ]
    },
    {
      "cell_type": "code",
      "source": [
        "# and here i want to find the best model\n",
        "best_model = knn_gs.best_estimator_ if knn_gs.best_score_ > dt_gs.best_score_ and knn_gs.best_score_ > svm_gs.best_score_ and knn_gs.best_score_ > LR_gs.best_score_ else dt_gs.best_estimator_ if dt_gs.best_score_ > svm_gs.best_score_ and LR_gs.best_score_  else svm_gs.best_estimator_ if svm_gs.best_score_ > LR_gs.best_score_ else LR_gs.best_estimator_\n",
        "best_model.fit(x_train, y_train)"
      ],
      "metadata": {
        "id": "sGDnka1_DkAL",
        "colab": {
          "base_uri": "https://localhost:8080/",
          "height": 74
        },
        "outputId": "d5150b48-622d-4aaa-bc95-73bb15c6298f"
      },
      "execution_count": null,
      "outputs": [
        {
          "output_type": "execute_result",
          "data": {
            "text/plain": [
              "DecisionTreeRegressor(max_depth=3)"
            ],
            "text/html": [
              "<style>#sk-container-id-25 {color: black;background-color: white;}#sk-container-id-25 pre{padding: 0;}#sk-container-id-25 div.sk-toggleable {background-color: white;}#sk-container-id-25 label.sk-toggleable__label {cursor: pointer;display: block;width: 100%;margin-bottom: 0;padding: 0.3em;box-sizing: border-box;text-align: center;}#sk-container-id-25 label.sk-toggleable__label-arrow:before {content: \"▸\";float: left;margin-right: 0.25em;color: #696969;}#sk-container-id-25 label.sk-toggleable__label-arrow:hover:before {color: black;}#sk-container-id-25 div.sk-estimator:hover label.sk-toggleable__label-arrow:before {color: black;}#sk-container-id-25 div.sk-toggleable__content {max-height: 0;max-width: 0;overflow: hidden;text-align: left;background-color: #f0f8ff;}#sk-container-id-25 div.sk-toggleable__content pre {margin: 0.2em;color: black;border-radius: 0.25em;background-color: #f0f8ff;}#sk-container-id-25 input.sk-toggleable__control:checked~div.sk-toggleable__content {max-height: 200px;max-width: 100%;overflow: auto;}#sk-container-id-25 input.sk-toggleable__control:checked~label.sk-toggleable__label-arrow:before {content: \"▾\";}#sk-container-id-25 div.sk-estimator input.sk-toggleable__control:checked~label.sk-toggleable__label {background-color: #d4ebff;}#sk-container-id-25 div.sk-label input.sk-toggleable__control:checked~label.sk-toggleable__label {background-color: #d4ebff;}#sk-container-id-25 input.sk-hidden--visually {border: 0;clip: rect(1px 1px 1px 1px);clip: rect(1px, 1px, 1px, 1px);height: 1px;margin: -1px;overflow: hidden;padding: 0;position: absolute;width: 1px;}#sk-container-id-25 div.sk-estimator {font-family: monospace;background-color: #f0f8ff;border: 1px dotted black;border-radius: 0.25em;box-sizing: border-box;margin-bottom: 0.5em;}#sk-container-id-25 div.sk-estimator:hover {background-color: #d4ebff;}#sk-container-id-25 div.sk-parallel-item::after {content: \"\";width: 100%;border-bottom: 1px solid gray;flex-grow: 1;}#sk-container-id-25 div.sk-label:hover label.sk-toggleable__label {background-color: #d4ebff;}#sk-container-id-25 div.sk-serial::before {content: \"\";position: absolute;border-left: 1px solid gray;box-sizing: border-box;top: 0;bottom: 0;left: 50%;z-index: 0;}#sk-container-id-25 div.sk-serial {display: flex;flex-direction: column;align-items: center;background-color: white;padding-right: 0.2em;padding-left: 0.2em;position: relative;}#sk-container-id-25 div.sk-item {position: relative;z-index: 1;}#sk-container-id-25 div.sk-parallel {display: flex;align-items: stretch;justify-content: center;background-color: white;position: relative;}#sk-container-id-25 div.sk-item::before, #sk-container-id-25 div.sk-parallel-item::before {content: \"\";position: absolute;border-left: 1px solid gray;box-sizing: border-box;top: 0;bottom: 0;left: 50%;z-index: -1;}#sk-container-id-25 div.sk-parallel-item {display: flex;flex-direction: column;z-index: 1;position: relative;background-color: white;}#sk-container-id-25 div.sk-parallel-item:first-child::after {align-self: flex-end;width: 50%;}#sk-container-id-25 div.sk-parallel-item:last-child::after {align-self: flex-start;width: 50%;}#sk-container-id-25 div.sk-parallel-item:only-child::after {width: 0;}#sk-container-id-25 div.sk-dashed-wrapped {border: 1px dashed gray;margin: 0 0.4em 0.5em 0.4em;box-sizing: border-box;padding-bottom: 0.4em;background-color: white;}#sk-container-id-25 div.sk-label label {font-family: monospace;font-weight: bold;display: inline-block;line-height: 1.2em;}#sk-container-id-25 div.sk-label-container {text-align: center;}#sk-container-id-25 div.sk-container {/* jupyter's `normalize.less` sets `[hidden] { display: none; }` but bootstrap.min.css set `[hidden] { display: none !important; }` so we also need the `!important` here to be able to override the default hidden behavior on the sphinx rendered scikit-learn.org. See: https://github.com/scikit-learn/scikit-learn/issues/21755 */display: inline-block !important;position: relative;}#sk-container-id-25 div.sk-text-repr-fallback {display: none;}</style><div id=\"sk-container-id-25\" class=\"sk-top-container\"><div class=\"sk-text-repr-fallback\"><pre>DecisionTreeRegressor(max_depth=3)</pre><b>In a Jupyter environment, please rerun this cell to show the HTML representation or trust the notebook. <br />On GitHub, the HTML representation is unable to render, please try loading this page with nbviewer.org.</b></div><div class=\"sk-container\" hidden><div class=\"sk-item\"><div class=\"sk-estimator sk-toggleable\"><input class=\"sk-toggleable__control sk-hidden--visually\" id=\"sk-estimator-id-65\" type=\"checkbox\" checked><label for=\"sk-estimator-id-65\" class=\"sk-toggleable__label sk-toggleable__label-arrow\">DecisionTreeRegressor</label><div class=\"sk-toggleable__content\"><pre>DecisionTreeRegressor(max_depth=3)</pre></div></div></div></div></div>"
            ]
          },
          "metadata": {},
          "execution_count": 257
        }
      ]
    },
    {
      "cell_type": "markdown",
      "source": [
        "Testing the best model"
      ],
      "metadata": {
        "id": "NLugtpf6_yyd"
      }
    },
    {
      "cell_type": "code",
      "source": [
        "# testing the best model\n",
        "from sklearn.metrics import mean_squared_error, mean_absolute_error, r2_score, mean_absolute_percentage_error\n",
        "\n",
        "y_predicted = best_model.predict(x_test)\n",
        "#mse to calculate the difference between predicted and actual values\n",
        "mse = mean_squared_error(y_test, y_predicted)\n",
        "#same as mse but better for intrepretation\n",
        "rmse = np.sqrt(mse)\n",
        "#mae to calculate the difference between predicted and actual values by taking the average of the absolute differences\n",
        "#that's why it's better to see how the model fits the data\n",
        "mae = mean_absolute_error(y_test, y_predicted)\n",
        "# r2 squre help us to find the perecentage of the explainable change in target label when change happens in the other feature\n",
        "r2 = r2_score(y_test, y_predicted)\n",
        "# find the average percentage difference between the predicted and actual values\n",
        "mape = mean_absolute_percentage_error(y_test, y_predicted)\n",
        "\n",
        "print(mse)\n",
        "print(rmse)\n",
        "print(mae)\n",
        "print(r2)\n",
        "print(mape)"
      ],
      "metadata": {
        "id": "7cStAGj3_0yt",
        "colab": {
          "base_uri": "https://localhost:8080/"
        },
        "outputId": "33bdbfce-a747-4179-a07d-677e88f778ea"
      },
      "execution_count": null,
      "outputs": [
        {
          "output_type": "stream",
          "name": "stdout",
          "text": [
            "1645704.2804916606\n",
            "1282.8500615783828\n",
            "753.1355302210583\n",
            "0.5163555093930824\n",
            "0.3820482178439108\n"
          ]
        }
      ]
    },
    {
      "cell_type": "code",
      "source": [
        "# Calculate the average, std, variance\n",
        "# so i can use them to compare with the results that i got\n",
        "average = y_test.mean()\n",
        "std_dev = y_test.std()\n",
        "variance = np.var(y_test)\n",
        "print(\"Standard Deviation:\", std_dev)\n",
        "print(\"var:\", variance)\n",
        "print(\"Average:\", average)"
      ],
      "metadata": {
        "id": "FmKcz3XIkC9T",
        "colab": {
          "base_uri": "https://localhost:8080/"
        },
        "outputId": "4582d45c-ce7d-4619-c516-934695e1ec0e"
      },
      "execution_count": null,
      "outputs": [
        {
          "output_type": "stream",
          "name": "stdout",
          "text": [
            "Standard Deviation: 1847.4806417078776\n",
            "var: 3402714.829701653\n",
            "Average: 2364.2048159509204\n"
          ]
        }
      ]
    },
    {
      "cell_type": "markdown",
      "source": [
        "Results:\n",
        "\n",
        "the best model didn't preform well with MSE, and R2 is telling that around half of the changes in the daily sales are explained by changes in the features.\n",
        "\n",
        "But it performed better in MAE and RMSE, RMSE is more realstic than MSE while, the big MSE result might mean that there are some large errors but they are few, that's why RMSE was way smaller.\n",
        "MAE was better too, as it seems large errors where the ones making most changes in the MSE.\n",
        "\n",
        "Both MAE and RMSE are smaller than Standard deviation, which could be a good indicator that the error in the is not very significant since it's smaller than the dispersion of the data from average.\n",
        "\n",
        "average percentage difference between the predicted and actual values is less than half, which is not bad but should be better.\n",
        "\n",
        "Fir next time, maybe some features could be removed or tuned down, or other hyperparameters should be used, or other features could be added, more or less outliers could be removed to improve the model's performance.\n",
        "\n",
        "And we can also next time use more complex methods like deep learning algorithms."
      ],
      "metadata": {
        "id": "HlPtj_uZ__W8"
      }
    },
    {
      "cell_type": "markdown",
      "source": [
        "DataSet Refrencing:\n",
        "\n",
        "Ooi0312 (2022) Laptop sales per day, Kaggle. Available at: https://www.kaggle.com/datasets/ooi0312/laptop-sales-per-day (Accessed: March 22, 2023)."
      ],
      "metadata": {
        "id": "7-WUdpi9AAnP"
      }
    }
  ]
}